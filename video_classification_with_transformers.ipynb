{
 "cells": [
  {
   "cell_type": "markdown",
   "id": "8aa95bac",
   "metadata": {},
   "source": [
    "# Video Classification with Transformers\n",
    "\n",
    "Classificando videos do Dataset ChaLearn em extrovertido (1) ou não (0).\n",
    "\n",
    "Os video do Dataset já foram processados em passo anterior seguindo os seguites passos:\n",
    "\n",
    "> Video -> EfficientNet B0 como extratora de características -> Redução de Dimensionalidade com PCA\n",
    "\n",
    "Este notebook tem por objetivo construir uma arquitetura baseada em Transformers que busca realizar a classificação."
   ]
  },
  {
   "cell_type": "code",
   "execution_count": 2,
   "id": "94f0532e",
   "metadata": {},
   "outputs": [
    {
     "name": "stdout",
     "output_type": "stream",
     "text": [
      "\u001b[33mWARNING: You are using pip version 21.2.4; however, version 22.1.2 is available.\r\n",
      "You should consider upgrading via the '/usr/bin/python3 -m pip install --upgrade pip' command.\u001b[0m\r\n"
     ]
    }
   ],
   "source": [
    "!pip install -q git+https://github.com/tensorflow/docs"
   ]
  },
  {
   "cell_type": "code",
   "execution_count": 14,
   "id": "01dddcae",
   "metadata": {},
   "outputs": [],
   "source": [
    "from tensorflow_docs.vis import embed\n",
    "from tensorflow.keras import layers\n",
    "from tensorflow import keras\n",
    "\n",
    "import matplotlib.pyplot as plt\n",
    "import tensorflow as tf\n",
    "import pandas as pd\n",
    "import numpy as np\n",
    "# import imageio\n",
    "import cv2\n",
    "import os"
   ]
  },
  {
   "cell_type": "code",
   "execution_count": 15,
   "id": "a26f95a4",
   "metadata": {},
   "outputs": [],
   "source": [
    "# Hiperparâmetros\n",
    "\n",
    "MAX_SEQ_LENGTH = 20\n",
    "NUM_FEATURES = 1024\n",
    "IMG_SIZE = 128\n",
    "\n",
    "EPOCHS = 30"
   ]
  },
  {
   "cell_type": "markdown",
   "id": "4f845786",
   "metadata": {},
   "source": [
    "## Import the data"
   ]
  },
  {
   "cell_type": "code",
   "execution_count": 16,
   "id": "5bfedb84",
   "metadata": {},
   "outputs": [
    {
     "name": "stdout",
     "output_type": "stream",
     "text": [
      "train_data shape: (3118, 20, 1024)\n",
      "train_labels shape: (3118,)\n"
     ]
    }
   ],
   "source": [
    "train_data = np.load('../train_data_with_pca.npy')\n",
    "train_labels = np.load('../train_labels.npy')\n",
    "\n",
    "print(f\"train_data shape: {train_data.shape}\")\n",
    "print(f\"train_labels shape: {train_labels.shape}\")"
   ]
  },
  {
   "cell_type": "markdown",
   "id": "5ab5a053",
   "metadata": {},
   "source": [
    "## Building the Transformer-based model"
   ]
  },
  {
   "cell_type": "code",
   "execution_count": 18,
   "id": "e6d9104f",
   "metadata": {},
   "outputs": [],
   "source": [
    "class PositionalEmbedding(layers.Layer):\n",
    "    def __init__(self, sequence_length, output_dim, **kwargs):\n",
    "        super().__init__(**kwargs)\n",
    "        self.position_embeddings = layers.Embedding(\n",
    "            input_dim=sequence_length, output_dim=output_dim\n",
    "        )\n",
    "        self.sequence_length = sequence_length\n",
    "        self.output_dim = output_dim\n",
    "\n",
    "    def call(self, inputs):\n",
    "        # The inputs are of shape: `(batch_size, frames, num_features)`\n",
    "        length = tf.shape(inputs)[1]\n",
    "        positions = tf.range(start=0, limit=length, delta=1)\n",
    "        embedded_positions = self.position_embeddings(positions)\n",
    "        return inputs + embedded_positions\n",
    "\n",
    "    def compute_mask(self, inputs, mask=None):\n",
    "        mask = tf.reduce_any(tf.cast(inputs, \"bool\"), axis=-1)\n",
    "        return mask"
   ]
  },
  {
   "cell_type": "code",
   "execution_count": 19,
   "id": "d43b954a",
   "metadata": {},
   "outputs": [],
   "source": [
    "class TransformerEncoder(layers.Layer):\n",
    "    def __init__(self, embed_dim, dense_dim, num_heads, **kwargs):\n",
    "        super().__init__(**kwargs)\n",
    "        self.embed_dim = embed_dim\n",
    "        self.dense_dim = dense_dim\n",
    "        self.num_heads = num_heads\n",
    "        self.attention = layers.MultiHeadAttention(\n",
    "            num_heads=num_heads, key_dim=embed_dim, dropout=0.3\n",
    "        )\n",
    "        self.dense_proj = keras.Sequential(\n",
    "            [layers.Dense(dense_dim, activation=tf.nn.gelu), layers.Dense(embed_dim),]\n",
    "        )\n",
    "        self.layernorm_1 = layers.LayerNormalization()\n",
    "        self.layernorm_2 = layers.LayerNormalization()\n",
    "\n",
    "    def call(self, inputs, mask=None):\n",
    "        if mask is not None:\n",
    "            mask = mask[:, tf.newaxis, :]\n",
    "\n",
    "        attention_output = self.attention(inputs, inputs, attention_mask=mask)\n",
    "        proj_input = self.layernorm_1(inputs + attention_output)\n",
    "        proj_output = self.dense_proj(proj_input)\n",
    "        return self.layernorm_2(proj_input + proj_output)"
   ]
  },
  {
   "cell_type": "code",
   "execution_count": 22,
   "id": "a075d04b",
   "metadata": {},
   "outputs": [],
   "source": [
    "def get_compiled_model():\n",
    "    sequence_length = MAX_SEQ_LENGTH\n",
    "    embed_dim = NUM_FEATURES\n",
    "    dense_dim = 4 # try 16 or 32\n",
    "    num_heads = 1 # try 4\n",
    "\n",
    "    inputs = keras.Input(shape=(None, None))\n",
    "    x = PositionalEmbedding(\n",
    "        sequence_length, embed_dim, name=\"frame_position_embedding\"\n",
    "    )(inputs)\n",
    "    x = TransformerEncoder(embed_dim, dense_dim, num_heads, name=\"transformer_layer\")(x)\n",
    "    x = layers.GlobalMaxPooling1D()(x)\n",
    "    x = layers.Dropout(0.5)(x)\n",
    "    outputs = layers.Dense(1, kernel_initializer='normal', activation='sigmoid')(x)\n",
    "    model = keras.Model(inputs, outputs)\n",
    "\n",
    "    model.compile(loss='binary_crossentropy', optimizer='adam', metrics=['accuracy'])\n",
    "    return model\n",
    "\n",
    "\n",
    "def run_experiment():\n",
    "    filepath = \"/tmp/video_classifier\"\n",
    "    checkpoint = keras.callbacks.ModelCheckpoint(\n",
    "        filepath, save_weights_only=True, save_best_only=True, verbose=1\n",
    "    )\n",
    "\n",
    "    model = get_compiled_model()\n",
    "    history = model.fit(\n",
    "        train_data,\n",
    "        train_labels,\n",
    "        validation_split=0.15,\n",
    "        epochs=EPOCHS,\n",
    "        callbacks=[checkpoint],\n",
    "    )\n",
    "\n",
    "    model.load_weights(filepath)\n",
    "#     _, accuracy = model.evaluate(test_data, test_labels)\n",
    "#     print(f\"Test accuracy: {round(accuracy * 100, 2)}%\")\n",
    "\n",
    "    return model"
   ]
  },
  {
   "cell_type": "code",
   "execution_count": 23,
   "id": "3ea9d3b8",
   "metadata": {},
   "outputs": [
    {
     "name": "stderr",
     "output_type": "stream",
     "text": [
      "2022-06-14 22:22:44.671515: E tensorflow/stream_executor/cuda/cuda_driver.cc:271] failed call to cuInit: CUDA_ERROR_COMPAT_NOT_SUPPORTED_ON_DEVICE: forward compatibility was attempted on non supported HW\n",
      "2022-06-14 22:22:44.671595: I tensorflow/stream_executor/cuda/cuda_diagnostics.cc:169] retrieving CUDA diagnostic information for host: cruzeiro\n",
      "2022-06-14 22:22:44.671616: I tensorflow/stream_executor/cuda/cuda_diagnostics.cc:176] hostname: cruzeiro\n",
      "2022-06-14 22:22:44.671746: I tensorflow/stream_executor/cuda/cuda_diagnostics.cc:200] libcuda reported version is: 470.129.6\n",
      "2022-06-14 22:22:44.671799: I tensorflow/stream_executor/cuda/cuda_diagnostics.cc:204] kernel reported version is: 470.103.1\n",
      "2022-06-14 22:22:44.671816: E tensorflow/stream_executor/cuda/cuda_diagnostics.cc:313] kernel version 470.103.1 does not match DSO version 470.129.6 -- cannot find working devices in this configuration\n",
      "2022-06-14 22:22:44.672329: I tensorflow/core/platform/cpu_feature_guard.cc:151] This TensorFlow binary is optimized with oneAPI Deep Neural Network Library (oneDNN) to use the following CPU instructions in performance-critical operations:  AVX2 FMA\n",
      "To enable them in other operations, rebuild TensorFlow with the appropriate compiler flags.\n"
     ]
    },
    {
     "name": "stdout",
     "output_type": "stream",
     "text": [
      "Epoch 1/30\n",
      "83/83 [==============================] - ETA: 0s - loss: 0.8866 - accuracy: 0.6800\n",
      "Epoch 1: val_loss improved from inf to 1.33764, saving model to /tmp/video_classifier\n",
      "83/83 [==============================] - 9s 89ms/step - loss: 0.8866 - accuracy: 0.6800 - val_loss: 1.3376 - val_accuracy: 0.6154\n",
      "Epoch 2/30\n",
      "83/83 [==============================] - ETA: 0s - loss: 0.4323 - accuracy: 0.8415\n",
      "Epoch 2: val_loss improved from 1.33764 to 1.28343, saving model to /tmp/video_classifier\n",
      "83/83 [==============================] - 7s 84ms/step - loss: 0.4323 - accuracy: 0.8415 - val_loss: 1.2834 - val_accuracy: 0.6346\n",
      "Epoch 3/30\n",
      "83/83 [==============================] - ETA: 0s - loss: 0.2811 - accuracy: 0.8932\n",
      "Epoch 3: val_loss did not improve from 1.28343\n",
      "83/83 [==============================] - 7s 79ms/step - loss: 0.2811 - accuracy: 0.8932 - val_loss: 1.4697 - val_accuracy: 0.7286\n",
      "Epoch 4/30\n",
      "83/83 [==============================] - ETA: 0s - loss: 0.2217 - accuracy: 0.9109\n",
      "Epoch 4: val_loss did not improve from 1.28343\n",
      "83/83 [==============================] - 7s 80ms/step - loss: 0.2217 - accuracy: 0.9109 - val_loss: 1.7510 - val_accuracy: 0.6944\n",
      "Epoch 5/30\n",
      "83/83 [==============================] - ETA: 0s - loss: 0.1572 - accuracy: 0.9389\n",
      "Epoch 5: val_loss did not improve from 1.28343\n",
      "83/83 [==============================] - 7s 79ms/step - loss: 0.1572 - accuracy: 0.9389 - val_loss: 1.9263 - val_accuracy: 0.6752\n",
      "Epoch 6/30\n",
      "83/83 [==============================] - ETA: 0s - loss: 0.1343 - accuracy: 0.9502\n",
      "Epoch 6: val_loss did not improve from 1.28343\n",
      "83/83 [==============================] - 7s 79ms/step - loss: 0.1343 - accuracy: 0.9502 - val_loss: 2.0715 - val_accuracy: 0.7009\n",
      "Epoch 7/30\n",
      "83/83 [==============================] - ETA: 0s - loss: 0.1008 - accuracy: 0.9604\n",
      "Epoch 7: val_loss did not improve from 1.28343\n",
      "83/83 [==============================] - 7s 80ms/step - loss: 0.1008 - accuracy: 0.9604 - val_loss: 2.4603 - val_accuracy: 0.6795\n",
      "Epoch 8/30\n",
      "83/83 [==============================] - ETA: 0s - loss: 0.1020 - accuracy: 0.9608\n",
      "Epoch 8: val_loss did not improve from 1.28343\n",
      "83/83 [==============================] - 7s 79ms/step - loss: 0.1020 - accuracy: 0.9608 - val_loss: 2.4274 - val_accuracy: 0.6581\n",
      "Epoch 9/30\n",
      "83/83 [==============================] - ETA: 0s - loss: 0.0851 - accuracy: 0.9702\n",
      "Epoch 9: val_loss did not improve from 1.28343\n",
      "83/83 [==============================] - 7s 80ms/step - loss: 0.0851 - accuracy: 0.9702 - val_loss: 3.0346 - val_accuracy: 0.6774\n",
      "Epoch 10/30\n",
      "83/83 [==============================] - ETA: 0s - loss: 0.0859 - accuracy: 0.9634\n",
      "Epoch 10: val_loss did not improve from 1.28343\n",
      "83/83 [==============================] - 7s 80ms/step - loss: 0.0859 - accuracy: 0.9634 - val_loss: 3.4350 - val_accuracy: 0.6538\n",
      "Epoch 11/30\n",
      "83/83 [==============================] - ETA: 0s - loss: 0.0809 - accuracy: 0.9675\n",
      "Epoch 11: val_loss did not improve from 1.28343\n",
      "83/83 [==============================] - 7s 80ms/step - loss: 0.0809 - accuracy: 0.9675 - val_loss: 3.1552 - val_accuracy: 0.6410\n",
      "Epoch 12/30\n",
      "83/83 [==============================] - ETA: 0s - loss: 0.0827 - accuracy: 0.9668\n",
      "Epoch 12: val_loss did not improve from 1.28343\n",
      "83/83 [==============================] - 7s 80ms/step - loss: 0.0827 - accuracy: 0.9668 - val_loss: 3.1990 - val_accuracy: 0.6645\n",
      "Epoch 13/30\n",
      "83/83 [==============================] - ETA: 0s - loss: 0.0767 - accuracy: 0.9698\n",
      "Epoch 13: val_loss did not improve from 1.28343\n",
      "83/83 [==============================] - 7s 80ms/step - loss: 0.0767 - accuracy: 0.9698 - val_loss: 3.5279 - val_accuracy: 0.6432\n",
      "Epoch 14/30\n",
      "83/83 [==============================] - ETA: 0s - loss: 0.0725 - accuracy: 0.9789\n",
      "Epoch 14: val_loss did not improve from 1.28343\n",
      "83/83 [==============================] - 7s 79ms/step - loss: 0.0725 - accuracy: 0.9789 - val_loss: 3.4336 - val_accuracy: 0.6474\n",
      "Epoch 15/30\n",
      "83/83 [==============================] - ETA: 0s - loss: 0.0475 - accuracy: 0.9823\n",
      "Epoch 15: val_loss did not improve from 1.28343\n",
      "83/83 [==============================] - 7s 80ms/step - loss: 0.0475 - accuracy: 0.9823 - val_loss: 3.6403 - val_accuracy: 0.6496\n",
      "Epoch 16/30\n",
      "83/83 [==============================] - ETA: 0s - loss: 0.0566 - accuracy: 0.9796\n",
      "Epoch 16: val_loss did not improve from 1.28343\n",
      "83/83 [==============================] - 7s 80ms/step - loss: 0.0566 - accuracy: 0.9796 - val_loss: 3.6111 - val_accuracy: 0.6774\n",
      "Epoch 17/30\n",
      "83/83 [==============================] - ETA: 0s - loss: 0.0696 - accuracy: 0.9728\n",
      "Epoch 17: val_loss did not improve from 1.28343\n",
      "83/83 [==============================] - 7s 79ms/step - loss: 0.0696 - accuracy: 0.9728 - val_loss: 3.8133 - val_accuracy: 0.6432\n",
      "Epoch 18/30\n",
      "83/83 [==============================] - ETA: 0s - loss: 0.0592 - accuracy: 0.9758\n",
      "Epoch 18: val_loss did not improve from 1.28343\n",
      "83/83 [==============================] - 7s 80ms/step - loss: 0.0592 - accuracy: 0.9758 - val_loss: 4.2142 - val_accuracy: 0.6389\n",
      "Epoch 19/30\n",
      "83/83 [==============================] - ETA: 0s - loss: 0.0502 - accuracy: 0.9808\n",
      "Epoch 19: val_loss did not improve from 1.28343\n",
      "83/83 [==============================] - 7s 79ms/step - loss: 0.0502 - accuracy: 0.9808 - val_loss: 4.5484 - val_accuracy: 0.5876\n",
      "Epoch 20/30\n",
      "83/83 [==============================] - ETA: 0s - loss: 0.0551 - accuracy: 0.9823\n",
      "Epoch 20: val_loss did not improve from 1.28343\n",
      "83/83 [==============================] - 7s 80ms/step - loss: 0.0551 - accuracy: 0.9823 - val_loss: 4.8358 - val_accuracy: 0.5983\n",
      "Epoch 21/30\n",
      "83/83 [==============================] - ETA: 0s - loss: 0.0432 - accuracy: 0.9834\n",
      "Epoch 21: val_loss did not improve from 1.28343\n",
      "83/83 [==============================] - 7s 80ms/step - loss: 0.0432 - accuracy: 0.9834 - val_loss: 4.1020 - val_accuracy: 0.6218\n",
      "Epoch 22/30\n",
      "83/83 [==============================] - ETA: 0s - loss: 0.0361 - accuracy: 0.9887\n",
      "Epoch 22: val_loss did not improve from 1.28343\n",
      "83/83 [==============================] - 7s 80ms/step - loss: 0.0361 - accuracy: 0.9887 - val_loss: 4.7237 - val_accuracy: 0.6325\n",
      "Epoch 23/30\n",
      "83/83 [==============================] - ETA: 0s - loss: 0.0446 - accuracy: 0.9830\n",
      "Epoch 23: val_loss did not improve from 1.28343\n",
      "83/83 [==============================] - 7s 80ms/step - loss: 0.0446 - accuracy: 0.9830 - val_loss: 4.7709 - val_accuracy: 0.6154\n",
      "Epoch 24/30\n",
      "83/83 [==============================] - ETA: 0s - loss: 0.0474 - accuracy: 0.9834\n",
      "Epoch 24: val_loss did not improve from 1.28343\n",
      "83/83 [==============================] - 7s 80ms/step - loss: 0.0474 - accuracy: 0.9834 - val_loss: 5.1684 - val_accuracy: 0.6047\n",
      "Epoch 25/30\n",
      "83/83 [==============================] - ETA: 0s - loss: 0.0446 - accuracy: 0.9830\n",
      "Epoch 25: val_loss did not improve from 1.28343\n",
      "83/83 [==============================] - 7s 80ms/step - loss: 0.0446 - accuracy: 0.9830 - val_loss: 5.2689 - val_accuracy: 0.5833\n",
      "Epoch 26/30\n",
      "83/83 [==============================] - ETA: 0s - loss: 0.0630 - accuracy: 0.9766\n",
      "Epoch 26: val_loss did not improve from 1.28343\n",
      "83/83 [==============================] - 7s 80ms/step - loss: 0.0630 - accuracy: 0.9766 - val_loss: 4.9910 - val_accuracy: 0.6453\n",
      "Epoch 27/30\n",
      "83/83 [==============================] - ETA: 0s - loss: 0.0632 - accuracy: 0.9736\n",
      "Epoch 27: val_loss did not improve from 1.28343\n",
      "83/83 [==============================] - 7s 79ms/step - loss: 0.0632 - accuracy: 0.9736 - val_loss: 5.1654 - val_accuracy: 0.6111\n",
      "Epoch 28/30\n",
      "83/83 [==============================] - ETA: 0s - loss: 0.0379 - accuracy: 0.9860\n",
      "Epoch 28: val_loss did not improve from 1.28343\n",
      "83/83 [==============================] - 7s 80ms/step - loss: 0.0379 - accuracy: 0.9860 - val_loss: 4.8681 - val_accuracy: 0.6624\n",
      "Epoch 29/30\n",
      "83/83 [==============================] - ETA: 0s - loss: 0.0346 - accuracy: 0.9883\n",
      "Epoch 29: val_loss did not improve from 1.28343\n",
      "83/83 [==============================] - 7s 80ms/step - loss: 0.0346 - accuracy: 0.9883 - val_loss: 5.4968 - val_accuracy: 0.6389\n",
      "Epoch 30/30\n",
      "83/83 [==============================] - ETA: 0s - loss: 0.0310 - accuracy: 0.9887\n",
      "Epoch 30: val_loss did not improve from 1.28343\n",
      "83/83 [==============================] - 7s 80ms/step - loss: 0.0310 - accuracy: 0.9887 - val_loss: 6.1251 - val_accuracy: 0.6154\n"
     ]
    }
   ],
   "source": [
    "trained_model = run_experiment()"
   ]
  },
  {
   "cell_type": "code",
   "execution_count": 33,
   "id": "5214f8a2",
   "metadata": {},
   "outputs": [
    {
     "data": {
      "image/png": "[encoded data removed]",
      "text/plain": [
       "<Figure size 432x288 with 1 Axes>"
      ]
     },
     "metadata": {
      "needs_background": "light"
     },
     "output_type": "display_data"
    }
   ],
   "source": [
    "train_accuracy = trained_model.history.history[\"accuracy\"]\n",
    "val_accuracy = trained_model.history.history[\"val_accuracy\"]\n",
    "\n",
    "# summarize history for accuracy\n",
    "plt.plot(train_accuracy)\n",
    "plt.plot(val_accuracy)\n",
    "plt.title('model accuracy')\n",
    "plt.ylabel('accuracy')\n",
    "plt.xlabel('epoch')\n",
    "plt.legend(['train', 'val'], loc='upper left')\n",
    "plt.show()"
   ]
  }
 ],
 "metadata": {
  "kernelspec": {
   "display_name": "Python 3 (ipykernel)",
   "language": "python",
   "name": "python3"
  },
  "language_info": {
   "codemirror_mode": {
    "name": "ipython",
    "version": 3
   },
   "file_extension": ".py",
   "mimetype": "text/x-python",
   "name": "python",
   "nbconvert_exporter": "python",
   "pygments_lexer": "ipython3",
   "version": "3.8.10"
  }
 },
 "nbformat": 4,
 "nbformat_minor": 5
}
